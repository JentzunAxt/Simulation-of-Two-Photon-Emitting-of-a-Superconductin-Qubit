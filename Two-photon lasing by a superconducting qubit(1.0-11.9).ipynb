{
 "cells": [
  {
   "cell_type": "code",
   "execution_count": 14,
   "id": "6fbcf556",
   "metadata": {},
   "outputs": [],
   "source": [
    "import matplotlib.pyplot as plt\n",
    "import numpy as np\n",
    "from qutip import *"
   ]
  },
  {
   "cell_type": "markdown",
   "id": "09bcd991",
   "metadata": {},
   "source": [
    "### Give The Involved Parameters"
   ]
  },
  {
   "cell_type": "code",
   "execution_count": 19,
   "id": "f4cc599e",
   "metadata": {},
   "outputs": [],
   "source": [
    "N = 10 # The number of Fock states of the system \n",
    "OmegaR = 1e-9 # The Amplitude of the applied magnetic flux\n",
    "g = 0.2 # The coupling energy between the quibit and the resonator\n",
    "omegar = 2*np.pi*1e8 # Fundamental frequency of the resonator\n"
   ]
  },
  {
   "cell_type": "markdown",
   "id": "78d9e51c",
   "metadata": {},
   "source": [
    "### Define the Creation and Annihilation Operators:"
   ]
  },
  {
   "cell_type": "code",
   "execution_count": 16,
   "id": "6da11c4b",
   "metadata": {},
   "outputs": [],
   "source": [
    "a = tensor(destroy(N),qeye(2))\n",
    "ad = a.dag"
   ]
  },
  {
   "cell_type": "markdown",
   "id": "f9d121a3",
   "metadata": {},
   "source": [
    "### Spin Matrices :"
   ]
  },
  {
   "cell_type": "code",
   "execution_count": 17,
   "id": "7122ddd6",
   "metadata": {},
   "outputs": [],
   "source": [
    "sx = tensor(qeye(N),sigmax())\n",
    "sz = tensor(qeye(N),sigmaz())\n",
    "sp = tensor(qeye(N),sigmap())\n",
    "sm = sp.dag"
   ]
  },
  {
   "cell_type": "code",
   "execution_count": null,
   "id": "e506a0dd",
   "metadata": {},
   "outputs": [],
   "source": []
  }
 ],
 "metadata": {
  "kernelspec": {
   "display_name": "Python 3",
   "language": "python",
   "name": "python3"
  },
  "language_info": {
   "codemirror_mode": {
    "name": "ipython",
    "version": 3
   },
   "file_extension": ".py",
   "mimetype": "text/x-python",
   "name": "python",
   "nbconvert_exporter": "python",
   "pygments_lexer": "ipython3",
   "version": "3.8.8"
  }
 },
 "nbformat": 4,
 "nbformat_minor": 5
}
