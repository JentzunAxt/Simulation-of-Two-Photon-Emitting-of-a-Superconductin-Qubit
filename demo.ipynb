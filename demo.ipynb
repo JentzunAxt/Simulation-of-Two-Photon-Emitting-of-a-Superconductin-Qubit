{
 "cells": [
  {
   "cell_type": "markdown",
   "id": "a1f3ec77",
   "metadata": {},
   "source": [
    "### Natural unit system is used in this project"
   ]
  },
  {
   "cell_type": "code",
   "execution_count": 22,
   "id": "6fbcf556",
   "metadata": {},
   "outputs": [],
   "source": [
    "import matplotlib.pyplot as plt\n",
    "import numpy as np\n",
    "from qutip import *"
   ]
  },
  {
   "cell_type": "markdown",
   "id": "09bcd991",
   "metadata": {},
   "source": [
    "### Give The Involved Parameters"
   ]
  },
  {
   "cell_type": "code",
   "execution_count": 23,
   "id": "f4cc599e",
   "metadata": {},
   "outputs": [],
   "source": [
    "N = 4 # The number of two-level systems\n",
    "ΩR0 = 10 # The Amplitude of the applied magnetic flux\n",
    "g = 0.2 # The coupling energy between the quibit and the resonator\n",
    "ωd = 2*np.pi # The driving frequency\n",
    "ωr = 10 # Resonance frequency\n",
    "ε = 0.01 # The energy bias\n",
    "Δ = 10 #The energy level sparation of the two-level system\n",
    "Γ0 = 12.5 # The spontaneous emission rate\n",
    "Γφ = 0.01 # Dephrasing rate \n",
    "T = 10 # The temperature\n",
    "κ = 0.01 # Resonance loss rate\n",
    "\n",
    "ωq = np.sqrt(ε**2 + Δ**2) # The eigenfrequency\n",
    "δω = ωd - ωq\n",
    "η = np.arctan(ε/Δ) \n",
    "β = np.arctan(δω/(ΩR0*np.cos(η)))\n",
    "ΩR = np.sqrt(ΩR0**2 * np.cos(η)**2 + δω**2) # Rabi frequency\n",
    "Nth = 1/(np.exp(ωq/T) - 1 ) #Thermal distribution function"
   ]
  },
  {
   "cell_type": "markdown",
   "id": "313ac46f",
   "metadata": {},
   "source": [
    "### Give the relaxation,excitation and dephasing rates in the rotating frame:\n",
    "  $$ \\Gamma_{\\uparrow,\\downarrow} = \\frac{\\Gamma_{0}}{4}\\cos^{2}{\\eta}(1\\pm\\sin{\\beta})+\\frac{\\Gamma_{\\varphi}}{2}\\sin^{2}{\\eta}\\cos^{2}{\\beta}$$\n",
    "\n",
    "  $$ \\Gamma_{\\varphi} = \\frac{\\Gamma_{0}}{2}\\cos^{2}{\\eta}\\cos^{2}{\\beta} + \\Gamma_{\\varphi}\\sin^{2}{\\eta}\\sin^{2}{\\beta} $$"
   ]
  },
  {
   "cell_type": "code",
   "execution_count": 24,
   "id": "3e47107d",
   "metadata": {},
   "outputs": [],
   "source": [
    "Γu = (Γ0/4)*np.cos(η)**2 * (1 + np.sin(β))**2 + (Γφ/2)*np.sin(η)**2 * np.cos(β)**2\n",
    "Γd = (Γ0/4)*np.cos(η)**2 * (1 - np.sin(β))**2 + (Γφ/2)*np.sin(η)**2 * np.cos(β)**2\n",
    "Γφbar = (Γ0/2)*np.cos(η)**2 * np.cos(β)**2 + Γφ*np.sin(η)**2 * np.sin(β)**2"
   ]
  },
  {
   "cell_type": "markdown",
   "id": "78d9e51c",
   "metadata": {},
   "source": [
    "### Define the Creation and Annihilation Operators:"
   ]
  },
  {
   "cell_type": "code",
   "execution_count": 25,
   "id": "6da11c4b",
   "metadata": {},
   "outputs": [],
   "source": [
    "a = tensor(destroy(N),qeye(2))\n",
    "ad =  a.dag()"
   ]
  },
  {
   "cell_type": "markdown",
   "id": "f9d121a3",
   "metadata": {},
   "source": [
    "### Spin Matrices :"
   ]
  },
  {
   "cell_type": "code",
   "execution_count": 26,
   "id": "7122ddd6",
   "metadata": {},
   "outputs": [],
   "source": [
    "sx = tensor(qeye(N),sigmax())\n",
    "sz = tensor(qeye(N),sigmaz())\n",
    "sm = tensor(destroy(N), qeye(2))\n",
    "sp = sm.dag()"
   ]
  },
  {
   "cell_type": "markdown",
   "id": "6a5fd82d",
   "metadata": {},
   "source": [
    "### Construction the Master Equation and Solve it\n",
    "$$\n",
    "\\begin{aligned}\n",
    "    \\dot{\\rho} & = - i[\\hat{H},\\rho] + \\frac{\\Gamma_{\\downarrow}}{2}(2\\sigma_{-}\\rho\\sigma_{+}-\\rho\\sigma_{+}\\sigma_{-} - \\sigma_{+}\\sigma_{-}\\rho) + \\frac{\\Gamma_{\\uparrow}}{2}(2\\sigma_{+}\\rho\\sigma_{-} - \\rho\\sigma_{-}\\sigma_{+} - \\sigma_{-}\\sigma_{+}\\rho) + \\Gamma_{\\varphi}(\\sigma_{z}\\rho\\sigma_{z} - \\rho) + \\frac{\\kappa}{2}(N_{th} + 1)(2a\\rho a^{\\dagger} - \\rho a^{\\dagger}a - a^{\\dagger}a\\rho)+\\frac{\\kappa}{2}N_{th}(2a^{\\dagger}\\rho a - aa^{\\dagger} - \\rho a a^{\\dagger})\n",
    "\\end{aligned}\n",
    "$$\n",
    "#### The Hamiltonian\n",
    "$$ \n",
    "\\begin{aligned} \n",
    "\\hat{H} = & \\omega_{r} a^{\\dagger}a + \\frac{1}{2}\\Omega_{R}\\sigma_{z}  +g\\sin{\\eta}[\\sin{\\beta}\\sigma_{z} - \\cos{\\beta}\\sigma_{x}](a+a^{\\dagger})  - \\frac{g^{2}}{\\omega_{q}}\\cos^{2}{\\eta}[\\sin{\\beta}\\sigma_{z} - \\cos{\\beta}\\sigma_{x}](a + a^{\\dagger})^{2}\n",
    "\\end{aligned} \n",
    "$$"
   ]
  },
  {
   "cell_type": "code",
   "execution_count": 27,
   "id": "9dd0d07a",
   "metadata": {},
   "outputs": [],
   "source": [
    "H = ωr*ad*a + 0.5*ΩR*sz+ g*np.sin(η)*(np.sin(β)*sz-np.cos(β)*sx)*(a+ad) - (g**2/ωq)*np.cos(η)**2 * (np.sin(β)*sz-np.cos(β)*sx)*(a + ad)**2\n",
    "c_ops = [np.sqrt(Γd)*sm, np.sqrt(Γu)*sp , np.sqrt(Γφbar)*sz, np.sqrt(κ*(Nth+1))*a , np.sqrt(κ*Nth)*ad] #A list of collapse operators\n",
    "tlist = np.linspace(0,2,1000)\n",
    "rho = tensor(fock(N,0),fock(2,1))\n",
    "e_ops = [a*ad] # The observables whose expaction to be calculated\n",
    "result  = mesolve(H,rho,tlist,c_ops,e_ops)"
   ]
  },
  {
   "cell_type": "markdown",
   "id": "d9bade00",
   "metadata": {},
   "source": [
    "### Visualization"
   ]
  },
  {
   "cell_type": "code",
   "execution_count": 28,
   "id": "39983f2c",
   "metadata": {},
   "outputs": [
    {
     "data": {
      "image/png": "[encoded data removed]",
      "text/plain": [
       "<Figure size 432x288 with 1 Axes>"
      ]
     },
     "metadata": {
      "needs_background": "light"
     },
     "output_type": "display_data"
    }
   ],
   "source": [
    "plt.plot(tlist,result.expect[0])\n",
    "plt.show()"
   ]
  }
 ],
 "metadata": {
  "kernelspec": {
   "display_name": "Python 3",
   "language": "python",
   "name": "python3"
  },
  "language_info": {
   "codemirror_mode": {
    "name": "ipython",
    "version": 3
   },
   "file_extension": ".py",
   "mimetype": "text/x-python",
   "name": "python",
   "nbconvert_exporter": "python",
   "pygments_lexer": "ipython3",
   "version": "3.8.8"
  }
 },
 "nbformat": 4,
 "nbformat_minor": 5
}
